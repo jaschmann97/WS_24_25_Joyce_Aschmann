{
  "cells": [
    {
      "cell_type": "markdown",
      "metadata": {},
      "source": [
        "# Help Function for tests\n",
        "\n"
      ]
    },
    {
      "cell_type": "code",
      "execution_count": null,
      "metadata": {
        "trusted": true
      },
      "outputs": [],
      "source": [
        "def assert_equals(a, b):\n",
        "    return a == b"
      ]
    },
    {
      "cell_type": "markdown",
      "metadata": {},
      "source": [
        "# Exercise 0\n",
        "In mathematics, the factorial of a non-negative integer n, denoted by n!, is the product of all positive integers less than or equal to n. For example:\n",
        "\n",
        "5! = 5 * 4 * 3 * 2 * 1 = 120 \n",
        "\n",
        "By convention the value of 0! is 1. Write a function to calculate factorial for a given input."
      ]
    },
    {
      "cell_type": "code",
      "execution_count": null,
      "metadata": {
        "trusted": true
      },
      "outputs": [],
      "source": [
        "def factorial(nb):\n",
        "    pass"
      ]
    },
    {
      "cell_type": "code",
      "execution_count": null,
      "metadata": {
        "trusted": true
      },
      "outputs": [],
      "source": [
        "factorial(12)"
      ]
    },
    {
      "cell_type": "code",
      "execution_count": null,
      "metadata": {
        "trusted": true
      },
      "outputs": [],
      "source": [
        "print(assert_equals(factorial(0), 1))\n",
        "print(assert_equals(factorial(1), 1))\n",
        "print(assert_equals(factorial(2), 2))\n",
        "print(assert_equals(factorial(3), 6))\n",
        "print(assert_equals(factorial(4), 24))\n",
        "print(assert_equals(factorial(6), 720))"
      ]
    },
    {
      "cell_type": "markdown",
      "metadata": {},
      "source": [
        "# Exercise 1 \n",
        "Write a function that always returns 5\n",
        "\n",
        "Sounds easy right? Just bear in mind that you can't use any of the following characters: ` 0123456789*+-/ `\n"
      ]
    },
    {
      "cell_type": "code",
      "execution_count": null,
      "metadata": {
        "trusted": true
      },
      "outputs": [],
      "source": [
        "def unusual_five():\n",
        "    pass\n"
      ]
    },
    {
      "cell_type": "code",
      "execution_count": null,
      "metadata": {
        "trusted": true
      },
      "outputs": [],
      "source": [
        "# Basic Tests\n",
        "print(assert_equals(unusual_five(),5))"
      ]
    },
    {
      "cell_type": "markdown",
      "metadata": {},
      "source": [
        "# Exercise 2\n",
        "Consider an array of sheep where some sheep may be missing from their place. We need a function that counts the number of sheep present in the array (true means present).\n",
        "\n",
        "For example,\n",
        "\n",
        "`\n",
        "[True,  True,  True,  False,\n",
        "  True,  True,  True,  True ,\n",
        "  True,  False, True,  False,\n",
        "  True,  False, False, True ,\n",
        "  True,  True,  True,  True ,\n",
        "  False, False, True,  True]\n",
        "`\n",
        "\n",
        "The correct answer would be 17.\n",
        "\n",
        "Hint: Don't forget to check for bad values like null/undefined"
      ]
    },
    {
      "cell_type": "code",
      "execution_count": null,
      "metadata": {
        "trusted": true
      },
      "outputs": [],
      "source": [
        "# your code here\n",
        "\n"
      ]
    },
    {
      "cell_type": "code",
      "execution_count": 1,
      "metadata": {
        "trusted": true
      },
      "outputs": [
        {
          "ename": "NameError",
          "evalue": "name 'assert_equals' is not defined",
          "output_type": "error",
          "traceback": [
            "\u001b[1;31m---------------------------------------------------------------------------\u001b[0m",
            "\u001b[1;31mNameError\u001b[0m                                 Traceback (most recent call last)",
            "Cell \u001b[1;32mIn[1], line 17\u001b[0m\n\u001b[0;32m      9\u001b[0m array2 \u001b[38;5;241m=\u001b[39m []\n\u001b[0;32m     11\u001b[0m array3 \u001b[38;5;241m=\u001b[39m [\u001b[38;5;28;01mTrue\u001b[39;00m,  \u001b[38;5;28;01mTrue\u001b[39;00m,  \u001b[38;5;28;01mTrue\u001b[39;00m,  \u001b[38;5;28;01mFalse\u001b[39;00m,\n\u001b[0;32m     12\u001b[0m           \u001b[38;5;28;01mTrue\u001b[39;00m,  \u001b[38;5;28;01mFalse\u001b[39;00m, \u001b[38;5;28;01mTrue\u001b[39;00m,  \u001b[38;5;28;01mFalse\u001b[39;00m,\n\u001b[0;32m     13\u001b[0m           \u001b[38;5;28;01mTrue\u001b[39;00m,  \u001b[38;5;28;01mFalse\u001b[39;00m, \u001b[38;5;28;01mFalse\u001b[39;00m, \u001b[38;5;28;01mTrue\u001b[39;00m ,\n\u001b[0;32m     14\u001b[0m           \u001b[38;5;28;01mTrue\u001b[39;00m,  \u001b[38;5;28;01mTrue\u001b[39;00m,  \u001b[38;5;28;01mTrue\u001b[39;00m,  \u001b[38;5;28;01mTrue\u001b[39;00m ,\n\u001b[0;32m     15\u001b[0m           \u001b[38;5;28;01mFalse\u001b[39;00m, \u001b[38;5;28;01mFalse\u001b[39;00m, \u001b[38;5;28;01mTrue\u001b[39;00m,  \u001b[38;5;28;01mTrue\u001b[39;00m ];\n\u001b[1;32m---> 17\u001b[0m \u001b[38;5;28mprint\u001b[39m(\u001b[43massert_equals\u001b[49m(count_sheeps(array1), \u001b[38;5;241m17\u001b[39m))\n\u001b[0;32m     18\u001b[0m \u001b[38;5;28mprint\u001b[39m(assert_equals(count_sheeps(array2), \u001b[38;5;241m0\u001b[39m))\n\u001b[0;32m     19\u001b[0m \u001b[38;5;28mprint\u001b[39m(assert_equals(count_sheeps(array3), \u001b[38;5;241m13\u001b[39m))\n",
            "\u001b[1;31mNameError\u001b[0m: name 'assert_equals' is not defined"
          ]
        }
      ],
      "source": [
        "# Basic Tests\n",
        "array1 = [True,  True,  True,  False,\n",
        "          True,  True,  True,  True ,\n",
        "          True,  False, True,  False,\n",
        "          True,  False, False, True ,\n",
        "          True,  True,  True,  True ,\n",
        "          False, False, True,  True ];\n",
        "\n",
        "array2 = []\n",
        "\n",
        "array3 = [True,  True,  True,  False,\n",
        "          True,  False, True,  False,\n",
        "          True,  False, False, True ,\n",
        "          True,  True,  True,  True ,\n",
        "          False, False, True,  True ];\n",
        "\n",
        "print(assert_equals(count_sheeps(array1), 17))\n",
        "print(assert_equals(count_sheeps(array2), 0))\n",
        "print(assert_equals(count_sheeps(array3), 13))"
      ]
    },
    {
      "cell_type": "markdown",
      "metadata": {},
      "source": [
        "# Exercise 3\n",
        "Your team is writing a fancy new text editor and you've been tasked with implementing the line numbering.\n",
        "\n",
        "Write a function which takes a list of strings and returns each line prepended by the correct number.\n",
        "\n",
        "The numbering starts at 1. The format is n: string. Notice the colon and space in between.\n",
        "\n",
        "Examples:\n",
        "\n",
        "`\n",
        "number([]) # => []\n",
        "number([\"a\", \"b\", \"c\"]) # => [\"1: a\", \"2: b\", \"3: c\"]\n",
        "`"
      ]
    },
    {
      "cell_type": "code",
      "execution_count": null,
      "metadata": {
        "trusted": true
      },
      "outputs": [],
      "source": [
        "def number(lines):\n",
        "    pass"
      ]
    },
    {
      "cell_type": "code",
      "execution_count": null,
      "metadata": {
        "trusted": true
      },
      "outputs": [],
      "source": [
        "# Basic Tests\n",
        "# print(assert_equals(number([]), []))\n",
        "print(assert_equals(number([\"a\", \"b\", \"c\"]), [\"1: a\", \"2: b\", \"3: c\"]))\n",
        "print(assert_equals(number(['', '', '', '', '']), ['1: ', '2: ', '3: ', '4: ', '5: ']))\n",
        "print(assert_equals(number(['', 'b', '', '', '']), ['1: ', '2: b', '3: ', '4: ', '5: ']))\n"
      ]
    },
    {
      "cell_type": "markdown",
      "metadata": {},
      "source": [
        "# Exercise 4\n",
        "Two tortoises named A and B must run a race. A starts with an average speed of 720 feet per hour. Young B knows she runs faster than A, and furthermore has not finished her cabbage.\n",
        "\n",
        "When she starts, at last, she can see that A has a 70 feet lead but B's speed is 850 feet per hour. How long will it take B to catch A?\n",
        "\n",
        "More generally: given two speeds v1 (A's speed, integer > 0) and v2 (B's speed, integer > 0) and a lead g (integer > 0) how long will it take B to catch A?\n",
        "\n",
        "\n",
        "The result will be an array [hour, min, sec] which is the time needed in hours, minutes and seconds (round down to the nearest second) or a string in some languages.\n",
        "\n",
        "\n",
        "If v1 >= v2 then return None. \n",
        "\n",
        "Examples:\n",
        "\n",
        "```python\n",
        "race(720, 850, 70) => [0, 32, 18] \n",
        "race(80, 91, 37)   => [3, 21, 49] \n",
        "race(80, 100, 40) =>  [2, 0, 0]\n",
        "\n",
        "\n",
        "```\n",
        "\n",
        "\n",
        "Note:\n",
        "See other examples in \"Your test cases\".\n",
        "\n",
        "** Hints for people who don't know how to convert to hours, minutes, seconds:\n",
        "\n",
        ". Tortoises don't care about fractions of seconds\n",
        "\n",
        ". Think of calculation by hand using only integers (in your code use or simulate integer division)\n",
        "      . or Google: \"convert decimal time to hours minutes seconds\"\n"
      ]
    },
    {
      "cell_type": "code",
      "execution_count": null,
      "metadata": {
        "trusted": true
      },
      "outputs": [],
      "source": [
        "def race(v1, v2, g):\n",
        "    pass"
      ]
    },
    {
      "cell_type": "code",
      "execution_count": 3,
      "metadata": {},
      "outputs": [
        {
          "name": "stdout",
          "output_type": "stream",
          "text": [
            "Example 7.1 ==  [2, 1, 0]\n",
            "Example 7.2 ==  [2, 1, 2]\n",
            "Example 7.3 ==  [2, 0, 1]\n"
          ]
        }
      ],
      "source": [
        "def solve(a, b):\n",
        "    results = []\n",
        "    for element_b in b:\n",
        "        times = 0\n",
        "        for element_a in a:\n",
        "            if element_a == element_b:\n",
        "                times += 1\n",
        "        results.append(times)\n",
        "    return results\n",
        "\n",
        "\n",
        "print(\"Example 7.1 == \", solve(['abc', 'abc', 'xyz', 'abcd', 'cde'], ['abc', 'cde', 'uap']))\n",
        "print(\"Example 7.2 == \", solve(['abc', 'xyz', 'abc', 'xyz', 'cde'], ['abc', 'cde', 'xyz']))\n",
        "print(\"Example 7.3 == \", solve(['quick', 'brown', 'fox', 'is', 'quick'], ['quick', 'abc', 'fox']))"
      ]
    },
    {
      "cell_type": "code",
      "execution_count": null,
      "metadata": {
        "trusted": true
      },
      "outputs": [],
      "source": [
        "# Basic Tests\n",
        "print(assert_equals(race(720, 850, 70), [0, 32, 18]))\n",
        "print(assert_equals(race(80, 91, 37), [3, 21, 49]))\n",
        "print(assert_equals(race(80, 100, 40),  [2, 0, 0]))\n"
      ]
    }
  ],
  "metadata": {
    "kernelspec": {
      "display_name": "Python 3",
      "language": "python",
      "name": "python3"
    },
    "language_info": {
      "codemirror_mode": {
        "name": "ipython",
        "version": 3
      },
      "file_extension": ".py",
      "mimetype": "text/x-python",
      "name": "python",
      "nbconvert_exporter": "python",
      "pygments_lexer": "ipython3",
      "version": "3.11.9"
    }
  },
  "nbformat": 4,
  "nbformat_minor": 4
}
