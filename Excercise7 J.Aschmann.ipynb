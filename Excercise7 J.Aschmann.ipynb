{
  "cells": [
    {
      "cell_type": "markdown",
      "metadata": {},
      "source": [
        "# Exercice 7 \n",
        "\n",
        "Write a function called 'solve'. It shoud take two arrays of string and return the number of times each string of the second array appears in the first array.\n",
        "\n",
        "Example\n",
        "\n",
        "array1 = ['abc', 'abc', 'xyz', 'cde', 'uvw']\n",
        "\n",
        "array2 = ['abc', 'cde', 'uap']\n",
        "\n",
        "How many times do the elements in array2 appear in array1?\n",
        "\n",
        "\n",
        "'abc' appears twice in the first array (2)\n",
        "\n",
        "'cde' appears only once (1)\n",
        "\n",
        "'uap' does not appear in the first array (0)\n",
        "\n",
        "Therefore, solve(array1, array2) = [2, 1, 0]\n",
        "\n",
        "\n",
        "\n"
      ]
    },
    {
      "cell_type": "code",
      "execution_count": 1,
      "metadata": {
        "trusted": true
      },
      "outputs": [],
      "source": [
        "# your code here\n",
        "def solve(a,b):\n",
        "    pass"
      ]
    },
    {
      "cell_type": "code",
      "execution_count": null,
      "metadata": {
        "trusted": true
      },
      "outputs": [],
      "source": [
        "# solve(['abc', 'abc','xyz','abcd','cde'], ['abc', 'cde', 'uap']) # should give [2, 1, 0]\n",
        "# solve(['abc', 'xyz','abc', 'xyz','cde'], ['abc', 'cde', 'xyz']) # should give  [2, 1, 2])\n",
        "# solve(['quick', 'brown', 'fox', 'is', 'quick'], ['quick', 'abc', 'fox']) # should give [2, 0, 1])"
      ]
    },
    {
      "cell_type": "code",
      "execution_count": 1,
      "metadata": {},
      "outputs": [
        {
          "name": "stdout",
          "output_type": "stream",
          "text": [
            "Example 7.1 ==  [2, 1, 0]\n",
            "Example 7.2 ==  [2, 1, 2]\n",
            "Example 7.3 ==  [2, 0, 1]\n"
          ]
        }
      ],
      "source": [
        "def solve(a, b):\n",
        "    results = []\n",
        "    for element_b in b:\n",
        "        times = 0\n",
        "        for element_a in a:\n",
        "            if element_a == element_b:\n",
        "                times += 1\n",
        "        results.append(times)\n",
        "    return results\n",
        "\n",
        "\n",
        "print(\"Example 7.1 == \", solve(['abc', 'abc', 'xyz', 'abcd', 'cde'], ['abc', 'cde', 'uap']))\n",
        "print(\"Example 7.2 == \", solve(['abc', 'xyz', 'abc', 'xyz', 'cde'], ['abc', 'cde', 'xyz']))\n",
        "print(\"Example 7.3 == \", solve(['quick', 'brown', 'fox', 'is', 'quick'], ['quick', 'abc', 'fox']))"
      ]
    }
  ],
  "metadata": {
    "kernelspec": {
      "display_name": "Python 3",
      "language": "python",
      "name": "python3"
    },
    "language_info": {
      "codemirror_mode": {
        "name": "ipython",
        "version": 3
      },
      "file_extension": ".py",
      "mimetype": "text/x-python",
      "name": "python",
      "nbconvert_exporter": "python",
      "pygments_lexer": "ipython3",
      "version": "3.11.9"
    }
  },
  "nbformat": 4,
  "nbformat_minor": 4
}
