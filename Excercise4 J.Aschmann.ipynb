{
  "cells": [
    {
      "cell_type": "markdown",
      "metadata": {},
      "source": [
        "# Exercice 4\n",
        "Who remembers back to their time in the schoolyard, when you would take a flower and tear its petals, saying each of the following phrases each time a petal was torn:\n",
        "\n",
        "`\n",
        "I like you\n",
        "a little\n",
        "a lot\n",
        "passionately\n",
        "madly\n",
        "not at all\n",
        "`\n",
        "\n",
        "When the last petal was torn there were cries of excitement, dreams, surging thoughts and emotions.\n",
        "\n",
        "\n",
        "Your goal is to determine which phrase you would say for a flower of a given number of petals, where **nb_petals > 0**.\n",
        "\n",
        "Examples: \n",
        "\n",
        "```python\n",
        "how_much_i_like_you(7)         # Output: \"I like you\"\n",
        "how_much_i_like_you(2)         # Output: \"a little\"\n",
        "how_much_i_like_you(5)         # Output: \"madly\"\n",
        "how_much_i_like_you(9)         # Output: \"a lot\"\n",
        "```\n",
        "\n"
      ]
    },
    {
      "cell_type": "code",
      "execution_count": null,
      "metadata": {
        "trusted": true
      },
      "outputs": [],
      "source": [
        "def how_much_i_like_you(nb_petals):\n",
        "    "
      ]
    },
    {
      "cell_type": "code",
      "execution_count": 28,
      "metadata": {},
      "outputs": [
        {
          "name": "stdout",
          "output_type": "stream",
          "text": [
            "I love you 3000\n"
          ]
        }
      ],
      "source": [
        "def how_much_i_like_you(nb_petals):\n",
        "    return  [\"not\" , \"kinda not\",\"sometimes\",\"a little\",\"a little more\",\"yes\",\"more than like\",\"not only a little\",\"a lot\",\"not... I love you\",\"I love you 3000\"][T]\n",
        "\n",
        "T=10\n",
        "\n",
        "if T==0:\n",
        "    print (how_much_i_like_you(0))\n",
        "elif T==1:\n",
        "    print (how_much_i_like_you(1))\n",
        "elif T==2:\n",
        "    print (how_much_i_like_you(2))\n",
        "elif T==3:\n",
        "    print (how_much_i_like_you(3))\n",
        "elif T==4:\n",
        "    print (how_much_i_like_you(4))\n",
        "elif T==5:\n",
        "    print (how_much_i_like_you(5))\n",
        "elif T==6:\n",
        "    print (how_much_i_like_you(6))\n",
        "elif T==7:\n",
        "    print (how_much_i_like_you(7))\n",
        "elif T==8:\n",
        "    print (how_much_i_like_you(8))\n",
        "elif T==9:\n",
        "    print (how_much_i_like_you(9))\n",
        "elif T==10:\n",
        "    print (how_much_i_like_you(10))\n",
        "else:\n",
        "    print (\"none\")\n",
        "\n",
        "# es wäre möglich mit einem Loop schlanker zu gestalten"
      ]
    }
  ],
  "metadata": {
    "kernelspec": {
      "display_name": "Python 3",
      "language": "python",
      "name": "python3"
    },
    "language_info": {
      "codemirror_mode": {
        "name": "ipython",
        "version": 3
      },
      "file_extension": ".py",
      "mimetype": "text/x-python",
      "name": "python",
      "nbconvert_exporter": "python",
      "pygments_lexer": "ipython3",
      "version": "3.11.9"
    }
  },
  "nbformat": 4,
  "nbformat_minor": 4
}
