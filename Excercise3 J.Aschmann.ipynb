{
  "cells": [
    {
      "cell_type": "markdown",
      "metadata": {},
      "source": [
        "# Exercice 3\n",
        "Your task is to create a function that does four basic mathematical operations.\n",
        "\n",
        "The function should take three arguments - \n",
        "\n",
        "operation(string/char), \n",
        "\n",
        "value1(number), \n",
        "\n",
        "value2(number).\n",
        "\n",
        "The function should return result of numbers after applying the chosen operation.\n",
        "\n",
        "Examples\n",
        "```python\n",
        "basic_op('+', 4, 7)         # Output: 11\n",
        "basic_op('-', 15, 18)       # Output: -3\n",
        "basic_op('*', 5, 5)         # Output: 25\n",
        "basic_op('/', 49, 7)        # Output: 7\n",
        "```"
      ]
    },
    {
      "cell_type": "code",
      "execution_count": null,
      "metadata": {},
      "outputs": [],
      "source": [
        "def basic_op(operator, value1, value2):\n",
        "    pass\n"
      ]
    },
    {
      "cell_type": "code",
      "execution_count": 8,
      "metadata": {},
      "outputs": [
        {
          "ename": "SyntaxError",
          "evalue": "Missing parentheses in call to 'print'. Did you mean print(...)? (303717679.py, line 10)",
          "output_type": "error",
          "traceback": [
            "\u001b[1;36m  Cell \u001b[1;32mIn[8], line 10\u001b[1;36m\u001b[0m\n\u001b[1;33m    print basic_op1\u001b[0m\n\u001b[1;37m    ^\u001b[0m\n\u001b[1;31mSyntaxError\u001b[0m\u001b[1;31m:\u001b[0m Missing parentheses in call to 'print'. Did you mean print(...)?\n"
          ]
        }
      ],
      "source": [
        "def basic_op(operator, value1, value2):\n",
        "    return basic_op\n",
        "value1=4\n",
        "value2=7\n",
        "basic_op1=(value1 + value2)\n",
        "basic_op2=(value1 - value2)\n",
        "basic_op3=(value1 * value2)\n",
        "basic_op4=(value1 / value2)\n",
        "\n",
        "print basic_op1\n",
        "#die operatoren müssen anders definiert werden\n",
        "# der print muss anders sein"
      ]
    },
    {
      "cell_type": "code",
      "execution_count": 36,
      "metadata": {},
      "outputs": [
        {
          "name": "stdout",
          "output_type": "stream",
          "text": [
            "(11,)\n",
            "(5,)\n",
            "(24,)\n",
            "0.5714285714285714\n"
          ]
        }
      ],
      "source": [
        "def basic_op(operator, value1, value2): \n",
        "    return basic_op\n",
        "\n",
        "basic_op1= value1 + value2, \n",
        "basic_op2= value1 - value2, \n",
        "basic_op3= value1 * value2, \n",
        "basic_op4: value1 / value2\n",
        "\n",
        "value1 = 8\n",
        "value2 = 3\n",
        "\n",
        "print(basic_op1)\n",
        "print(basic_op2)\n",
        "print(basic_op3)\n",
        "print(basic_op4)"
      ]
    }
  ],
  "metadata": {
    "kernelspec": {
      "display_name": "Python 3",
      "language": "python",
      "name": "python3"
    },
    "language_info": {
      "codemirror_mode": {
        "name": "ipython",
        "version": 3
      },
      "file_extension": ".py",
      "mimetype": "text/x-python",
      "name": "python",
      "nbconvert_exporter": "python",
      "pygments_lexer": "ipython3",
      "version": "3.11.9"
    }
  },
  "nbformat": 4,
  "nbformat_minor": 4
}
