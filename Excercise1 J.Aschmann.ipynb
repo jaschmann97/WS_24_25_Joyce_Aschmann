{
  "cells": [
    {
      "cell_type": "markdown",
      "metadata": {},
      "source": [
        "# Exercice 1\n",
        "\n",
        "Write a function called **string_to_array** that split a string and convert it into an array of words. The function should take one str argument and does not return anything, just print the array of words. \n",
        "\n",
        "For example:\n",
        "\n",
        "```python\n",
        "\"Robin Singh\" should return [\"Robin\", \"Singh\"]\n",
        "\n",
        "\"I love arrays they are my favorite\" should return [\"I\", \"love\", \"arrays\", \"they\", \"are\", \"my\", \"favorite\"]\n",
        "```\n",
        "\n",
        "### check your answer with the following strings \n",
        "\n",
        "```\n",
        "\n",
        "string_to_array(\"Robin Singh\") should print [\"Robin\", \"Singh\"])\n",
        "\n",
        "string_to_array(\"CodeWars\") should print [\"CodeWars\"]\n",
        "\n",
        "string_to_array(\"I love arrays they are my favorite\") should print [\"I\", \"love\", \"arrays\", \"they\", \"are\", \"my\", \"favorite\"]\n",
        "\n",
        "string_to_array(\"1 2 3\") should print [\"1\", \"2\", \"3\"]\n",
        "\n",
        "string_to_array(\"\") should print [\"\"]\n",
        "```"
      ]
    },
    {
      "cell_type": "code",
      "execution_count": 12,
      "metadata": {
        "trusted": true
      },
      "outputs": [],
      "source": [
        "# NOTE! \"pass\" is a keyword for an empty function. It tells the compiler that it is not an error if a function is empty\n",
        "# https://docs.python.org/3/library/stdtypes.html#str.split\n",
        "def string_to_array(your_string):\n",
        "    pass"
      ]
    },
    {
      "cell_type": "code",
      "execution_count": 35,
      "metadata": {},
      "outputs": [
        {
          "name": "stdout",
          "output_type": "stream",
          "text": [
            "['Robert', 'Singh']\n"
          ]
        }
      ],
      "source": [
        "def string_to_array(string):\n",
        "    return string.split()\n",
        "name= string_to_array(\"Robert Singh\")\n",
        "print (name)\n",
        "#wenn schon definiert wurde, sollte man kürzer schreiben können -> nächster Code"
      ]
    },
    {
      "cell_type": "code",
      "execution_count": 36,
      "metadata": {},
      "outputs": [
        {
          "name": "stdout",
          "output_type": "stream",
          "text": [
            "['Robert', 'Singh']\n"
          ]
        }
      ],
      "source": [
        "name= string_to_array(\"Robert Singh\")\n",
        "print (name)\n",
        "# die Ausgabe hat den Datentyp array bzw. list\n",
        "# wir können versuchen direkt mit list zu arbeiten"
      ]
    },
    {
      "cell_type": "code",
      "execution_count": 52,
      "metadata": {},
      "outputs": [
        {
          "name": "stdout",
          "output_type": "stream",
          "text": [
            "['Robert', 'Singh']\n"
          ]
        }
      ],
      "source": [
        "def name(list):\n",
        "    print.name()\n",
        "name= [\"Robert\", \"Singh\"]\n",
        "print (name) \n",
        "# das ist umständlicher"
      ]
    },
    {
      "cell_type": "code",
      "execution_count": 53,
      "metadata": {},
      "outputs": [
        {
          "name": "stdout",
          "output_type": "stream",
          "text": [
            "<function string_to_array at 0x000001F67578AAC0>\n"
          ]
        }
      ],
      "source": [
        "string_to_array(\"Robert Singh\")\n",
        "print (string_to_array)\n",
        "# funktioniert so nicht -> \"name\" muss vorgeschaltet werden -> \"\" kann auch anders heißen"
      ]
    }
  ],
  "metadata": {
    "kernelspec": {
      "display_name": "Python 3",
      "language": "python",
      "name": "python3"
    },
    "language_info": {
      "codemirror_mode": {
        "name": "ipython",
        "version": 3
      },
      "file_extension": ".py",
      "mimetype": "text/x-python",
      "name": "python",
      "nbconvert_exporter": "python",
      "pygments_lexer": "ipython3",
      "version": "3.11.9"
    }
  },
  "nbformat": 4,
  "nbformat_minor": 4
}
