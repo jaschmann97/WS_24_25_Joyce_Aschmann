{
  "cells": [
    {
      "cell_type": "markdown",
      "metadata": {},
      "source": [
        "# Exercice 6 \n",
        "You are given an input string.\n",
        "\n",
        "For each symbol in the string if it's the first character occurence, replace it with a '1', else replace it with the amount of times you've already seen it...\n",
        "\n",
        "Examples: \n",
        "\n",
        "```python\n",
        "input   =  \"Hello, World!\"\n",
        "result  =  \"1112111121311\"\n",
        "\n",
        "input   =  \"aaaaaaaaaaaa\"\n",
        "result  =  \"123456789101112\"\n",
        "```\n",
        "\n",
        "Test your code with the following strings\n",
        "\n",
        "`\n",
        "numericals(\"Hello, World!\")  should return  \"1112111121311\"\n",
        "numericals(\"Hello, World! It's me, JomoPipi!\") should return \"11121111213112111131224132411122\"\n",
        "numericals(\"hello hello\") should return  \"11121122342\"\n",
        "numericals(\"Hello\") should return \"11121\"\n",
        "numericals(\"aaaaaaaaaaaa\") should return \"123456789101112\"\n",
        "`"
      ]
    },
    {
      "cell_type": "code",
      "execution_count": null,
      "metadata": {
        "trusted": true
      },
      "outputs": [],
      "source": [
        "def numericals(your_str):\n",
        "    pass"
      ]
    },
    {
      "cell_type": "code",
      "execution_count": 1,
      "metadata": {},
      "outputs": [
        {
          "name": "stdout",
          "output_type": "stream",
          "text": [
            "Example 6.1 ==  1112111121311\n",
            "Example 6.2 ==  11121111213112111131224132411122\n",
            "Example 6.3 ==  11121122342\n",
            "Example 6.4 ==  11121\n",
            "Example 6.5 ==  123456789101112\n"
          ]
        }
      ],
      "source": [
        "def numericals(your_string):\n",
        "    result = []\n",
        "    dict_seen = {}\n",
        "    for letter in your_string:\n",
        "        if letter not in dict_seen:\n",
        "            dict_seen[letter] = 1\n",
        "        else:\n",
        "            dict_seen[letter] += 1\n",
        "        result.append(str(dict_seen[letter]))\n",
        "    return ''.join(result)\n",
        "\n",
        "\n",
        "print(\"Example 6.1 == \", numericals(\"Hello, World!\"))\n",
        "print(\"Example 6.2 == \", numericals(\"Hello, World! It's me, JomoPipi!\"))\n",
        "print(\"Example 6.3 == \", numericals(\"hello hello\"))\n",
        "print(\"Example 6.4 == \", numericals(\"Hello\"))\n",
        "print(\"Example 6.5 == \", numericals(\"aaaaaaaaaaaa\"))"
      ]
    }
  ],
  "metadata": {
    "kernelspec": {
      "display_name": "Python 3",
      "language": "python",
      "name": "python3"
    },
    "language_info": {
      "codemirror_mode": {
        "name": "ipython",
        "version": 3
      },
      "file_extension": ".py",
      "mimetype": "text/x-python",
      "name": "python",
      "nbconvert_exporter": "python",
      "pygments_lexer": "ipython3",
      "version": "3.11.9"
    }
  },
  "nbformat": 4,
  "nbformat_minor": 4
}
