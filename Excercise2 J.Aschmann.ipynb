{
  "cells": [
    {
      "cell_type": "markdown",
      "metadata": {},
      "source": [
        "# Exercice 2: \n",
        "\n",
        "Usually when you buy something, you're asked whether your credit card number, phone number or answer to your most secret question is still correct. However, since someone could look over your shoulder, you don't want that shown on your screen. Instead, we mask it.\n",
        "\n",
        "Your task is to write a function called **maskify**, which changes all but the last four characters into '#' and return the value as a string (str).\n",
        "\n",
        "Output example: \n",
        "\"What was the name of your first pet?\"\n",
        "\n",
        "```python \n",
        "maskify(\"Skippy\")                                   == \"##ippy\"\n",
        "maskify(\"Nananananananananananananananana Batman!\") == \"####################################man!\"\n",
        "```\n",
        "\n",
        "### check your answer with the following strings \n",
        "```python \n",
        "maskify(\"4556364607935616\") == \"############5616\"\n",
        "maskify(     \"64607935616\") ==      \"#######5616\"\n",
        "maskify(               \"1\") ==                \"1\"\n",
        "maskify(                \"\") ==                 \"\"\n",
        "```\n",
        "\n"
      ]
    },
    {
      "cell_type": "code",
      "execution_count": 16,
      "metadata": {
        "trusted": true
      },
      "outputs": [],
      "source": [
        "def maskify(your_str):\n",
        "    pass"
      ]
    },
    {
      "cell_type": "code",
      "execution_count": 17,
      "metadata": {},
      "outputs": [
        {
          "name": "stdout",
          "output_type": "stream",
          "text": [
            "#####6789\n"
          ]
        }
      ],
      "source": [
        "def maskify (str):\n",
        "    return '#####6789'\n",
        "masked= maskify(\"123456789\")\n",
        "print (masked)\n",
        "# es wird immer '#####6789' ausgegeben\n",
        "# egal was bei masked= maskify(\"123456789\") in den \"\" drin steht\n",
        "# der Code muss optimiert werden"
      ]
    },
    {
      "cell_type": "code",
      "execution_count": 33,
      "metadata": {},
      "outputs": [
        {
          "name": "stdout",
          "output_type": "stream",
          "text": [
            "True\n"
          ]
        }
      ],
      "source": [
        "def maskify(str): \n",
        "        return '#' * (len(str) - 4) + str[-4:]\n",
        "masked = maskify(\"Nananananananananananananananana Batman!\") == \"####################################man!\"\n",
        "print (masked)\n",
        "\n",
        "# mit der Formulierung im Text wird nur ein Booloean ausgegeben\n",
        "# das können wir umgehen, wenn wir mit einer Formel arbeiten, die die Länge des strings misst und anschließend ersetzt"
      ]
    },
    {
      "cell_type": "code",
      "execution_count": 35,
      "metadata": {},
      "outputs": [
        {
          "name": "stdout",
          "output_type": "stream",
          "text": [
            "97\n",
            "2404\n",
            "#####6789\n"
          ]
        }
      ],
      "source": [
        "def maskify(str): \n",
        "        return '#' * (len(str) - 4) + str[-4:]\n",
        "maskedJahr = maskify(\"97\")\n",
        "maskedCode = maskify(\"2404\")\n",
        "maskedIBAN = maskify (\"123456789\")\n",
        "print(maskedJahr)\n",
        "print(maskedCode)\n",
        "print(maskedIBAN) \n",
        "\n",
        "#der PIN ist immer 4-stellig und es wäre besser, wenn dieser auch verschlüsselt wird\n",
        "#das kann mit einer IF-Else Funktion angepasst werden"
      ]
    },
    {
      "cell_type": "code",
      "execution_count": 36,
      "metadata": {},
      "outputs": [
        {
          "name": "stdout",
          "output_type": "stream",
          "text": [
            "##\n",
            "####\n",
            "#####6789\n"
          ]
        }
      ],
      "source": [
        "def maskify(str): \n",
        "    if len(str) <= 4: \n",
        "        return '#' * len(str) \n",
        "    else: \n",
        "        return '#' * (len(str) - 4) + str[-4:]\n",
        "maskedJahr = maskify(\"97\")\n",
        "maskedCode = maskify(\"2404\")\n",
        "maskedIBAN = maskify (\"123456789\")\n",
        "print(maskedJahr)\n",
        "print(maskedCode)\n",
        "print(maskedIBAN) "
      ]
    }
  ],
  "metadata": {
    "kernelspec": {
      "display_name": "Python 3",
      "language": "python",
      "name": "python3"
    },
    "language_info": {
      "codemirror_mode": {
        "name": "ipython",
        "version": 3
      },
      "file_extension": ".py",
      "mimetype": "text/x-python",
      "name": "python",
      "nbconvert_exporter": "python",
      "pygments_lexer": "ipython3",
      "version": "3.11.9"
    }
  },
  "nbformat": 4,
  "nbformat_minor": 4
}
