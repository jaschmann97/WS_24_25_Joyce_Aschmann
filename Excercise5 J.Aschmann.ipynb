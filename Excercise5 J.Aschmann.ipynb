{
  "cells": [
    {
      "cell_type": "markdown",
      "metadata": {},
      "source": [
        "# Exercice 5 (slicing)\n",
        "You are going to be given an array of integers. Your job is to take that array and find an index N where the sum of the integers to the left of N is equal to the sum of the integers to the right of N. If there is no index that would make this happen, return -1.\n",
        "\n",
        "For example:\n",
        "\n",
        "Let's say you are given the array {1,2,3,4,3,2,1}:\n",
        "Your function will return the index 3, because at the 3rd position of the array, the sum of left side of the index ({1,2,3}) and the sum of the right side of the index ({3,2,1}) both equal 6.\n",
        "\n",
        "Let's look at another one.\n",
        "You are given the array {1,100,50,-51,1,1}:\n",
        "Your function will return the index 1, because at the 1st position of the array, the sum of left side of the index ({1}) and the sum of the right side of the index ({50,-51,1,1}) both equal 1.\n",
        "\n",
        "Last one:\n",
        "You are given the array {20,10,-80,10,10,15,35}\n",
        "At index 0 the left side is {}\n",
        "The right side is {10,-80,10,10,15,35}\n",
        "They both are equal to 0 when added. (Empty arrays are equal to 0 in this problem)\n",
        "Index 0 is the place where the left side and right side are equal.\n",
        "\n",
        "Note: Please remember that in python the index of an array starts at 0.\n",
        "\n",
        "Input:\n",
        "An integer array of length 0 < arr < 1000. The numbers in the array can be any integer positive or negative.\n",
        "\n",
        "Output:\n",
        "The lowest index N where the side to the left of N is equal to the side to the right of N. If you do not find an index that fits these rules, then you will return -1.\n",
        "\n",
        "Note:\n",
        "If you are given an array with multiple answers, return the lowest correct index.\n",
        "\n",
        "Check your answer with the following arrays\n",
        "\n",
        "```\n",
        "find_even_index([1,2,3,4,3,2,1]) should return 3\n",
        "find_even_index([1,100,50,-51,1,1]) should return 1\n",
        "find_even_index([1,2,3,4,5,6]) should return -1\n",
        "find_even_index([20,10,30,10,10,15,35]) should return 3\n",
        "find_even_index([20,10,-80,10,10,15,35]) should return 0\n",
        "find_even_index([10,-80,10,10,15,35,20]) should return 6\n",
        "find_even_index(range(1,100)) should return -1\n",
        "find_even_index([-1,-2,-3,-4,-3,-2,-1]) should return 3\n",
        "find_even_index(range(-100,-1)) should return -1\n",
        "find_even_index([0,0,0,0,0]) should return 0 because it Should pick the first index if more cases are valid\n",
        "```"
      ]
    },
    {
      "cell_type": "code",
      "execution_count": null,
      "metadata": {
        "trusted": true
      },
      "outputs": [],
      "source": [
        "def find_even_index(arr):\n",
        "    \n",
        "       \n",
        "    pass"
      ]
    },
    {
      "cell_type": "code",
      "execution_count": 5,
      "metadata": {},
      "outputs": [
        {
          "name": "stdout",
          "output_type": "stream",
          "text": [
            "Example 5.1 ==  3\n",
            "Example 5.2 ==  1\n",
            "Example 5.3 ==  -1\n",
            "Example 5.4 ==  3\n",
            "Example 5.5 ==  0\n",
            "Example 5.6 ==  6\n",
            "Example 5.7 ==  -1\n",
            "Example 5.8 ==  3\n",
            "Example 5.9 ==  -1\n",
            "Example 5.10 ==  0\n"
          ]
        }
      ],
      "source": [
        "def find_even_index(arr):\n",
        "    for index in range(len(arr)):\n",
        "        left_part = arr[:index]\n",
        "        right_part = arr[index + 1:]\n",
        "        if sum(left_part) == sum(right_part):\n",
        "            return index\n",
        "        else:\n",
        "            pass\n",
        "    return -1\n",
        "\n",
        "\n",
        "print(\"Example 5.1 == \", find_even_index([1, 2, 3, 4, 3, 2, 1]))\n",
        "print(\"Example 5.2 == \", find_even_index([1, 100, 50, -51, 1, 1]))\n",
        "print(\"Example 5.3 == \", find_even_index([1, 2, 3, 4, 5, 6]))\n",
        "print(\"Example 5.4 == \", find_even_index([20, 10, 30, 10, 10, 15, 35]))\n",
        "print(\"Example 5.5 == \", find_even_index([20, 10, -80, 10, 10, 15, 35]))\n",
        "print(\"Example 5.6 == \", find_even_index([10, -80, 10, 10, 15, 35, 20]))\n",
        "print(\"Example 5.7 == \", find_even_index(range(1, 100)))\n",
        "print(\"Example 5.8 == \", find_even_index([-1, -2, -3, -4, -3, -2, -1]))\n",
        "print(\"Example 5.9 == \", find_even_index(range(-100, -1)))\n",
        "print(\"Example 5.10 == \", find_even_index([0, 0, 0, 0, 0]))"
      ]
    }
  ],
  "metadata": {
    "kernelspec": {
      "display_name": "Python 3",
      "language": "python",
      "name": "python3"
    },
    "language_info": {
      "codemirror_mode": {
        "name": "ipython",
        "version": 3
      },
      "file_extension": ".py",
      "mimetype": "text/x-python",
      "name": "python",
      "nbconvert_exporter": "python",
      "pygments_lexer": "ipython3",
      "version": "3.11.9"
    }
  },
  "nbformat": 4,
  "nbformat_minor": 4
}
